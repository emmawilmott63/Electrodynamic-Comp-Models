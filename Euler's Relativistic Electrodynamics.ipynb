{
 "cells": [
  {
   "cell_type": "code",
   "execution_count": null,
   "id": "741098c3",
   "metadata": {},
   "outputs": [],
   "source": [
    "import numpy as np\n",
    "\n",
    "# constants\n",
    "c = 1\n",
    "q = 1\n",
    "m = 1\n",
    "\n",
    "# functions\n",
    "def magnitude(vector):\n",
    "  return np.sqrt(np.sum(np.square(vector)))\n",
    "def gamma_v(v):\n",
    "  return 1/np.sqrt(1-magnitude(v/c)**2)\n",
    "def gamma_u(u):\n",
    "  return np.sqrt(1+magnitude(u/c)**2)\n",
    "\n",
    "# euler method\n",
    "def euler(xn,un):\n",
    "  vn = un/gamma_u(un)\n",
    "  an = q*(E(xn) + np.cross(vn, B(xn)))/m\n",
    "  un_plus_one = un + an*dt\n",
    "  gamma_plus_one = gamma_u(un_plus_one)\n",
    "  xn_plus_one = xn + (un_plus_one/(gamma_plus_one))*dt\n",
    "  return xn_plus_one, un_plus_one, gamma_plus_one\n"
   ]
  },
  {
   "cell_type": "code",
   "execution_count": null,
   "id": "457ef56d",
   "metadata": {},
   "outputs": [],
   "source": [
    "# for graphing\n",
    "teuler = []\n",
    "xxeuler = []\n",
    "xyeuler = []\n",
    "xzeuler = []\n",
    "uxeuler = []\n",
    "uyeuler = []\n",
    "uzeuler = []\n",
    "vxeuler = []\n",
    "vyeuler = []\n",
    "vzeuler = []\n",
    "gammaeuler = []\n",
    "\n",
    "# initial conditions\n",
    "t = 0\n",
    "dt = 0.01\n",
    "xn = np.array([0,0,0])\n",
    "un = np.array([0,0,0])\n",
    "\n",
    "# spatially dependent fields\n",
    "def E(xn):\n",
    "  return np.array([0,0,0.1])\n",
    "def B(xn):\n",
    "  return np.array([0,0,0])\n",
    "\n",
    "while t < 10:\n",
    "  xn = euler(xn,un)[0]\n",
    "  un = euler(xn,un)[1]\n",
    "  gamman = gamma_u(un)\n",
    "  t = t + dt\n",
    "  xxeuler.append(xn[0])\n",
    "  xyeuler.append(xn[1])\n",
    "  xzeuler.append(xn[2])\n",
    "  uxeuler.append(un[0])\n",
    "  uyeuler.append(un[1])\n",
    "  uzeuler.append(un[2])\n",
    "  vxeuler.append(un[0]/gamman)\n",
    "  vyeuler.append(un[1]/gamman)\n",
    "  vzeuler.append(un[2]/gamman)\n",
    "  gammaeuler.append(gamman)\n",
    "  teuler.append(t)"
   ]
  }
 ],
 "metadata": {
  "kernelspec": {
   "display_name": "Python 3 (ipykernel)",
   "language": "python",
   "name": "python3"
  },
  "language_info": {
   "codemirror_mode": {
    "name": "ipython",
    "version": 3
   },
   "file_extension": ".py",
   "mimetype": "text/x-python",
   "name": "python",
   "nbconvert_exporter": "python",
   "pygments_lexer": "ipython3",
   "version": "3.9.12"
  }
 },
 "nbformat": 4,
 "nbformat_minor": 5
}
